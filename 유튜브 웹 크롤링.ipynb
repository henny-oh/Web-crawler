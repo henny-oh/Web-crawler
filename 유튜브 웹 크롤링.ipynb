{
 "cells": [
  {
   "cell_type": "code",
   "execution_count": null,
   "metadata": {
    "scrolled": true
   },
   "outputs": [
    {
     "name": "stdout",
     "output_type": "stream",
     "text": [
      "음악\n",
      "\n",
      "----------------------------------------------------------------------------------------------\n",
      "순위:1\n",
      "제목 임영웅x정동원 [천 개의 바람이 되어] 사랑의콜센타 (ENG)\n",
      "조회수 653,761회\n",
      "좋아요 47,147개\n",
      "싫어요 207개\n",
      "채널명 임영웅\n",
      "구독자 110만명\n"
     ]
    }
   ],
   "source": [
    "from bs4 import BeautifulSoup\n",
    "from selenium import webdriver\n",
    "import time\n",
    "\n",
    "driver= webdriver.Chrome('/Users/hyewon_oh/study/chromedriver')\n",
    "driver.get('https://www.youtube.com/feed/trending')\n",
    "\n",
    "source = driver.page_source\n",
    "s1 = BeautifulSoup(source, \"html.parser\")\n",
    "\n",
    "category=s1.find(\"div\",class_=\"style-scope ytd-channel-list-sub-menu-renderer\").find_all(\"ytd-channel-list-sub-menu-avatar-renderer\")\n",
    "\n",
    "for each in category:\n",
    "    url=\"https://www.youtube.com\"+each.find('a')[\"href\"]\n",
    "    driver.get(url)\n",
    "    rank=0\n",
    "    \n",
    "    src = driver.page_source\n",
    "    s2 = BeautifulSoup(src, \"html.parser\")\n",
    "    \n",
    "    print(s2.find(\"ytd-text-header-renderer\",class_=\"style-scope ytd-section-list-renderer\").get_text())\n",
    "    print(\"----------------------------------------------------------------------------------------------\")\n",
    "    lists=s2.find_all(id=\"video-title\")\n",
    "    \n",
    "    for list in lists:\n",
    "        rank+=1\n",
    "        print(\"순위:\"+str(rank))\n",
    "        url=\"https://www.youtube.com\"+list[\"href\"]\n",
    "        driver.get(url)\n",
    "       \n",
    "        \n",
    "        time.sleep(1)\n",
    "        src = driver.page_source\n",
    "        s2 = BeautifulSoup(src, \"html.parser\")\n",
    "        time.sleep(1)\n",
    "        title=s2.find('h1',class_='title style-scope ytd-video-primary-info-renderer')\n",
    "        count=s2.find('span',class_=\"view-count style-scope yt-view-count-renderer\")\n",
    "        \n",
    "        time.sleep(1)\n",
    "        \n",
    "        button=s2.find(id='top-level-buttons').find_all('yt-formatted-string')\n",
    "        \n",
    "        upload=s2.find(id=\"meta-contents\").find('yt-formatted-string',class_=\"style-scope ytd-channel-name\")\n",
    "        owner=s2.find(id=\"meta-contents\").find(id=\"owner-sub-count\")\n",
    "        \n",
    "        print(\"제목 \"+title.get_text())\n",
    "        print(count.get_text())\n",
    "        print(button[0]['aria-label'])\n",
    "        print(button[1]['aria-label'])\n",
    "        print(\"채널명 \"+upload.get_text())\n",
    "        print(owner.get_text())\n",
    "        \n",
    "        while True: \n",
    "            driver.execute_script(\"window.scrollTo(0, document.documentElement.scrollHeight);\") \n",
    "            time.sleep(3.0)\n",
    "            source = driver.page_source\n",
    "            s3 = BeautifulSoup(source,'html.parser')\n",
    "            if len(s3.select('div#header-author > a > span')) == 100: \n",
    "                break \n",
    "\n",
    "        id_list=[]\n",
    "        comment_list=[]\n",
    "        for writer in s3.select('div#header-author > a > span'):\n",
    "            id_list.append(writer.text.strip())   \n",
    "        for comment in s3.select('yt-formatted-string#content-text'):\n",
    "            comment_list.append(comment.text.strip())\n",
    "\n",
    "        for i in range(len(id_list)): \n",
    "            print('작성자: ' + id_list[i])\n",
    "            print('내용: ' + comment_list[i])\n",
    "            print('*'*80)\n",
    "        print(\"----------------------------------------------------------------------------------------------\")\n",
    "\n",
    "\n",
    "driver.close()\n",
    "\n"
   ]
  },
  {
   "cell_type": "code",
   "execution_count": null,
   "metadata": {},
   "outputs": [],
   "source": []
  }
 ],
 "metadata": {
  "kernelspec": {
   "display_name": "Python 3",
   "language": "python",
   "name": "python3"
  },
  "language_info": {
   "codemirror_mode": {
    "name": "ipython",
    "version": 3
   },
   "file_extension": ".py",
   "mimetype": "text/x-python",
   "name": "python",
   "nbconvert_exporter": "python",
   "pygments_lexer": "ipython3",
   "version": "3.8.2"
  }
 },
 "nbformat": 4,
 "nbformat_minor": 4
}
