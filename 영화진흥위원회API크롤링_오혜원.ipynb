{
 "cells": [
  {
   "cell_type": "code",
   "execution_count": 24,
   "metadata": {},
   "outputs": [
    {
     "name": "stdout",
     "output_type": "stream",
     "text": [
      "20190101\n",
      "20180290 아쿠아맨 143 [{'nationNm': '미국'}, {'nationNm': '호주'}] [{'peopleNm': '제임스 완', 'peopleNmEn': 'James Wan'}] [{'companyCd': '20100043', 'companyNm': '워너브러더스 코리아(주)', 'companyNmEn': 'Warner Bros. Korea', 'companyPartNm': '배급사'}, {'companyCd': '20100043', 'companyNm': '워너브러더스 코리아(주)', 'companyNmEn': 'Warner Bros. Korea', 'companyPartNm': '수입사'}]\n",
      "20170658 PMC: 더 벙커 124 [{'nationNm': '한국'}] [{'peopleNm': '김병우', 'peopleNmEn': 'KIM Byung-woo'}] [{'companyCd': '20140593', 'companyNm': '(주)퍼펙트스톰필름', 'companyNmEn': 'Perfect Storm Film Inc.', 'companyPartNm': '제작사'}, {'companyCd': '20110854', 'companyNm': '씨제이이앤엠(주)', 'companyNmEn': 'CJ ENM Corp.', 'companyPartNm': '배급사'}, {'companyCd': '20110854', 'companyNm': '씨제이이앤엠(주)', 'companyNmEn': 'CJ ENM Corp.', 'companyPartNm': '제공'}, {'companyCd': '20100109', 'companyNm': '씨제이엔터테인먼트', 'companyNmEn': 'CJ Entertainment', 'companyPartNm': '해외세일즈사'}]\n",
      "20185485 보헤미안 랩소디 134 [{'nationNm': '미국'}] [{'peopleNm': '브라이언 싱어', 'peopleNmEn': 'Bryan Singer'}] [{'companyCd': '20161801', 'companyNm': '월트디즈니컴퍼니코리아 유한책임회사', 'companyNmEn': 'The Walt Disney Company Korea', 'companyPartNm': '배급사'}, {'companyCd': '20100041', 'companyNm': '이십세기폭스코리아(주)', 'companyNmEn': '20th Century Fox Korea', 'companyPartNm': '배급사'}, {'companyCd': '20100041', 'companyNm': '이십세기폭스코리아(주)', 'companyNmEn': '20th Century Fox Korea', 'companyPartNm': '수입사'}]\n",
      "20186281 범블비 113 [{'nationNm': '미국'}] [{'peopleNm': '트래비스 나이트', 'peopleNmEn': 'Travis Knight'}] [{'companyCd': '20188021', 'companyNm': '롯데컬처웍스(주)롯데엔터테인먼트', 'companyNmEn': 'Lotte Cultureworks Lotte Entertainment Co.,Ltd', 'companyPartNm': '배급사'}, {'companyCd': '20188021', 'companyNm': '롯데컬처웍스(주)롯데엔터테인먼트', 'companyNmEn': 'Lotte Cultureworks Lotte Entertainment Co.,Ltd', 'companyPartNm': '수입사'}, {'companyCd': '20104469', 'companyNm': '파라마운트 픽쳐스', 'companyNmEn': 'Paramount Pictures', 'companyPartNm': '제공'}]\n",
      "20184187 언니 93 [{'nationNm': '한국'}] [{'peopleNm': '임경택', 'peopleNmEn': 'LIM Kyoung-tack'}] [{'companyCd': '20186621', 'companyNm': '필름에이픽쳐스', 'companyNmEn': 'FilmA Pictures', 'companyPartNm': '제작사'}, {'companyCd': '20142369', 'companyNm': '(유)조이앤시네마', 'companyNmEn': 'JOY N CINEMA', 'companyPartNm': '제작사'}, {'companyCd': '20161101', 'companyNm': '(주)제이앤씨미디어그룹', 'companyNmEn': '', 'companyPartNm': '배급사'}, {'companyCd': '20139196', 'companyNm': 'TCO(주)더콘텐츠온', 'companyNmEn': 'THE CONTENTS ON', 'companyPartNm': '배급사'}, {'companyCd': '20111211', 'companyNm': '케이티하이텔(주)', 'companyNmEn': 'kth', 'companyPartNm': '공동제공'}, {'companyCd': '20100851', 'companyNm': '(주)화인컷', 'companyNmEn': 'Finecut Co., Ltd.', 'companyPartNm': '해외세일즈사'}]\n",
      "20175547 스윙키즈 133 [{'nationNm': '한국'}] [{'peopleNm': '강형철', 'peopleNmEn': 'KANG Hyoung-chul'}] [{'companyCd': '20138660', 'companyNm': '(주)안나푸르나필름', 'companyNmEn': '', 'companyPartNm': '제작사'}, {'companyCd': '20100932', 'companyNm': '(주)넥스트엔터테인먼트월드(NEW)', 'companyNmEn': 'Next Entertainment World', 'companyPartNm': '배급사'}, {'companyCd': '20100932', 'companyNm': '(주)넥스트엔터테인먼트월드(NEW)', 'companyNmEn': 'Next Entertainment World', 'companyPartNm': '제공'}, {'companyCd': '20142968', 'companyNm': '(주)콘텐츠판다', 'companyNmEn': 'CONTENTS PANDA', 'companyPartNm': '해외세일즈사'}]\n",
      "20183785 점박이 한반도의 공룡2 : 새로운 낙원 93 [{'nationNm': '한국'}] [{'peopleNm': '한상호', 'peopleNmEn': 'HAN Sang-ho'}] [{'companyCd': '20112452', 'companyNm': '(주)드림써치C&C', 'companyNmEn': 'Dream Search Contents and Company co.Ltd', 'companyPartNm': '제작사'}, {'companyCd': '20100932', 'companyNm': '(주)넥스트엔터테인먼트월드(NEW)', 'companyNmEn': 'Next Entertainment World', 'companyPartNm': '배급사'}, {'companyCd': '20112452', 'companyNm': '(주)드림써치C&C', 'companyNmEn': 'Dream Search Contents and Company co.Ltd', 'companyPartNm': '제공'}, {'companyCd': '20100932', 'companyNm': '(주)넥스트엔터테인먼트월드(NEW)', 'companyNmEn': 'Next Entertainment World', 'companyPartNm': '공동제공'}]\n",
      "20182421 그린치 89 [{'nationNm': '미국'}] [{'peopleNm': '스콧 모시어', 'peopleNmEn': 'Scott Mosier'}] [{'companyCd': '20100603', 'companyNm': '유니버설픽쳐스인터내셔널 코리아(유)', 'companyNmEn': 'Universal Pictures International Korea', 'companyPartNm': '배급사'}, {'companyCd': '20100603', 'companyNm': '유니버설픽쳐스인터내셔널 코리아(유)', 'companyNmEn': 'Universal Pictures International Korea', 'companyPartNm': '수입사'}]\n",
      "20183479 극장판 짱구는 못말려: 아뵤! 쿵후 보이즈 ~라면 대란~ 103 [{'nationNm': '일본'}] [{'peopleNm': '타카하시 와타루', 'peopleNmEn': 'Wataru Takahashi'}] [{'companyCd': '20110854', 'companyNm': '씨제이이앤엠(주)', 'companyNmEn': 'CJ ENM Corp.', 'companyPartNm': '배급사'}, {'companyCd': '20110854', 'companyNm': '씨제이이앤엠(주)', 'companyNmEn': 'CJ ENM Corp.', 'companyPartNm': '수입사'}]\n",
      "20168773 마약왕 139 [{'nationNm': '한국'}] [{'peopleNm': '우민호', 'peopleNmEn': 'WOO Min-ho'}] [{'companyCd': '2016841', 'companyNm': '(주)하이브미디어코프', 'companyNmEn': 'Hive Media Corp.', 'companyPartNm': '제작사'}, {'companyCd': '20100103', 'companyNm': '(주)쇼박스', 'companyNmEn': 'Showbox Corp', 'companyPartNm': '배급사'}, {'companyCd': '20100103', 'companyNm': '(주)쇼박스', 'companyNmEn': 'Showbox Corp', 'companyPartNm': '제공'}, {'companyCd': '20100103', 'companyNm': '(주)쇼박스', 'companyNmEn': 'Showbox Corp', 'companyPartNm': '해외세일즈사'}]\n",
      "20190102\n"
     ]
    },
    {
     "ename": "KeyError",
     "evalue": "'boxOfficeResult'",
     "output_type": "error",
     "traceback": [
      "\u001b[0;31m---------------------------------------------------------------------------\u001b[0m",
      "\u001b[0;31mKeyError\u001b[0m                                  Traceback (most recent call last)",
      "\u001b[0;32m<ipython-input-24-1071ac8c31f0>\u001b[0m in \u001b[0;36m<module>\u001b[0;34m\u001b[0m\n\u001b[1;32m     22\u001b[0m \u001b[0;34m\u001b[0m\u001b[0m\n\u001b[1;32m     23\u001b[0m     \u001b[0;32mfor\u001b[0m \u001b[0mnum\u001b[0m \u001b[0;32min\u001b[0m \u001b[0mrange\u001b[0m\u001b[0;34m(\u001b[0m\u001b[0;36m0\u001b[0m\u001b[0;34m,\u001b[0m\u001b[0;36m10\u001b[0m\u001b[0;34m)\u001b[0m\u001b[0;34m:\u001b[0m\u001b[0;34m\u001b[0m\u001b[0;34m\u001b[0m\u001b[0m\n\u001b[0;32m---> 24\u001b[0;31m          \u001b[0mmoviecds\u001b[0m\u001b[0;34m.\u001b[0m\u001b[0mappend\u001b[0m\u001b[0;34m(\u001b[0m\u001b[0mj\u001b[0m\u001b[0;34m[\u001b[0m\u001b[0;34m'boxOfficeResult'\u001b[0m\u001b[0;34m]\u001b[0m\u001b[0;34m[\u001b[0m\u001b[0;34m'dailyBoxOfficeList'\u001b[0m\u001b[0;34m]\u001b[0m\u001b[0;34m[\u001b[0m\u001b[0mnum\u001b[0m\u001b[0;34m]\u001b[0m\u001b[0;34m[\u001b[0m\u001b[0;34m'movieCd'\u001b[0m\u001b[0;34m]\u001b[0m\u001b[0;34m)\u001b[0m\u001b[0;34m\u001b[0m\u001b[0;34m\u001b[0m\u001b[0m\n\u001b[0m\u001b[1;32m     25\u001b[0m \u001b[0;34m\u001b[0m\u001b[0m\n\u001b[1;32m     26\u001b[0m     \u001b[0murl\u001b[0m \u001b[0;34m=\u001b[0m \u001b[0;34m'http://www.kobis.or.kr/kobisopenapi/webservice/rest/movie/searchMovieInfo.json'\u001b[0m\u001b[0;34m\u001b[0m\u001b[0;34m\u001b[0m\u001b[0m\n",
      "\u001b[0;31mKeyError\u001b[0m: 'boxOfficeResult'"
     ]
    }
   ],
   "source": [
    "import requests\n",
    "import json\n",
    "import time\n",
    "import datetime\n",
    "import pandas as pd\n",
    "\n",
    "i=0\n",
    "url = ' http://www.kobis.or.kr/kobisopenapi/webservice/rest/boxoffice/searchDailyBoxOfficeList.json'\n",
    "dateinfo=datetime.datetime(2019, 1, 1)\n",
    "while True:\n",
    "    new_datetime=dateinfo + datetime.timedelta(days=i)\n",
    "    print(new_datetime.strftime('%Y%m%d') )\n",
    "    param = {\n",
    "            'key' : '836dc41ce9be5158f91a4a37d11e3e80',   # 발급받은 키\n",
    "            'targetDt' : new_datetime.strftime('%Y%m%d') \n",
    "    }\n",
    "\n",
    "    request = requests.get(url, params = param)\n",
    "    j = request.json()\n",
    "    \n",
    "    moviecds=[]\n",
    "    \n",
    "    for num in range(0,10):\n",
    "         moviecds.append(j['boxOfficeResult']['dailyBoxOfficeList'][num]['movieCd'])\n",
    "            \n",
    "    url = 'http://www.kobis.or.kr/kobisopenapi/webservice/rest/movie/searchMovieInfo.json'\n",
    "\n",
    "    for cd in moviecds:\n",
    "        param = {\n",
    "                'key' : '836dc41ce9be5158f91a4a37d11e3e80',   # 발급받은 키\n",
    "                'movieCd' : cd   # 검색하려는 영화인\n",
    "        }\n",
    "        request = requests.get(url, params = param)\n",
    "        j = request.json()\n",
    "\n",
    "\n",
    "        movie_cd=j['movieInfoResult']['movieInfo']['movieCd']\n",
    "        movie_name=j['movieInfoResult']['movieInfo']['movieNm']\n",
    "        showtime=j['movieInfoResult']['movieInfo']['showTm']\n",
    "        nation=j['movieInfoResult']['movieInfo']['nations']\n",
    "        director=j['movieInfoResult']['movieInfo']['directors']\n",
    "        companys=j['movieInfoResult']['movieInfo']['companys']\n",
    "\n",
    "        print(movie_cd, movie_name, showtime, nation,director,companys )\n",
    "       \n",
    "    time.sleep(1)\n",
    "    i += 1\n",
    "    "
   ]
  },
  {
   "cell_type": "code",
   "execution_count": 2,
   "metadata": {},
   "outputs": [],
   "source": [
    "moviecds=[]\n",
    "for num in range(0,10):\n",
    "     moviecds.append(j['boxOfficeResult']['dailyBoxOfficeList'][num]['movieCd'])"
   ]
  },
  {
   "cell_type": "code",
   "execution_count": 3,
   "metadata": {},
   "outputs": [
    {
     "name": "stdout",
     "output_type": "stream",
     "text": [
      "20180290\n",
      "아쿠아맨\n",
      "20170658\n",
      "PMC: 더 벙커\n",
      "20185485\n",
      "보헤미안 랩소디\n",
      "20186281\n",
      "범블비\n",
      "20184187\n",
      "언니\n",
      "20175547\n",
      "스윙키즈\n",
      "20183785\n",
      "점박이 한반도의 공룡2 : 새로운 낙원\n",
      "20182421\n",
      "그린치\n",
      "20183479\n",
      "극장판 짱구는 못말려: 아뵤! 쿵후 보이즈 ~라면 대란~\n",
      "20168773\n",
      "마약왕\n"
     ]
    }
   ],
   "source": [
    "url = 'http://www.kobis.or.kr/kobisopenapi/webservice/rest/movie/searchMovieInfo.json'\n",
    "\n",
    "for cd in moviecds:\n",
    "    param = {\n",
    "            'key' : '836dc41ce9be5158f91a4a37d11e3e80',   # 발급받은 키\n",
    "            'movieCd' : cd   # 검색하려는 영화인\n",
    "    }\n",
    "    request = requests.get(url, params = param)\n",
    "    j = request.json()\n",
    "    \n",
    "    \n",
    "    movie_cd=j['movieInfoResult']['movieInfo']['movieCd']\n",
    "    movie_name=j['movieInfoResult']['movieInfo']['movieNm']\n",
    "    showtime=j['movieInfoResult']['movieInfo']['showTm']\n",
    "    nation=j['movieInfoResult']['movieInfo']['nations']\n",
    "    director=j['movieInfoResult']['movieInfo']['directors']\n",
    "    companys=j['movieInfoResult']['movieInfo']['companys']\n",
    "    \n",
    "    print(movie_cd)\n",
    "    print(movie_name)"
   ]
  },
  {
   "cell_type": "code",
   "execution_count": 41,
   "metadata": {},
   "outputs": [],
   "source": [
    "\n",
    "    "
   ]
  },
  {
   "cell_type": "code",
   "execution_count": 35,
   "metadata": {},
   "outputs": [
    {
     "ename": "SyntaxError",
     "evalue": "invalid syntax (<ipython-input-35-6ee96d3def08>, line 2)",
     "output_type": "error",
     "traceback": [
      "\u001b[0;36m  File \u001b[0;32m\"<ipython-input-35-6ee96d3def08>\"\u001b[0;36m, line \u001b[0;32m2\u001b[0m\n\u001b[0;31m    pd.DataFrame({'moviecd'=movie_cd,'movie_name'=movie_name,'showtime'=showtime}\u001b[0m\n\u001b[0m                           ^\u001b[0m\n\u001b[0;31mSyntaxError\u001b[0m\u001b[0;31m:\u001b[0m invalid syntax\n"
     ]
    }
   ],
   "source": []
  },
  {
   "cell_type": "code",
   "execution_count": 38,
   "metadata": {},
   "outputs": [
    {
     "name": "stdout",
     "output_type": "stream",
     "text": [
      "   0  1  2  3  4\n",
      "0  1  2  3  4  5\n",
      "1  a  b  c  d  e\n"
     ]
    }
   ],
   "source": [
    "\n",
    "\n"
   ]
  },
  {
   "cell_type": "code",
   "execution_count": null,
   "metadata": {},
   "outputs": [],
   "source": []
  }
 ],
 "metadata": {
  "kernelspec": {
   "display_name": "Python 3",
   "language": "python",
   "name": "python3"
  },
  "language_info": {
   "codemirror_mode": {
    "name": "ipython",
    "version": 3
   },
   "file_extension": ".py",
   "mimetype": "text/x-python",
   "name": "python",
   "nbconvert_exporter": "python",
   "pygments_lexer": "ipython3",
   "version": "3.8.2"
  }
 },
 "nbformat": 4,
 "nbformat_minor": 4
}
